{
  "nbformat": 4,
  "nbformat_minor": 0,
  "metadata": {
    "colab": {
      "provenance": []
    },
    "kernelspec": {
      "name": "python3",
      "display_name": "Python 3"
    },
    "language_info": {
      "name": "python"
    }
  },
  "cells": [
    {
      "cell_type": "code",
      "source": [
        "import pandas as pd\n",
        "import numpy as np\n",
        "data=pd.read_csv(\"ws.csv\")\n",
        "print(data)\n",
        "d=np.array(data)[:,:-1]\n",
        "print(\" The attributes are\",d)\n",
        "target=np.array(data)[:,-1]\n",
        "print(\" The target is:\",target)\n",
        "\n",
        "def train(c,t):\n",
        "    for i, val in enumerate(t):\n",
        "        if val==\"Yes\":\n",
        "            specific_hypothesis=c[i].copy()\n",
        "            break\n",
        "    for i,val in enumerate(c):\n",
        "        if t[i]==\"Yes\":\n",
        "            for x in range(len(specific_hypothesis)):\n",
        "                if val[x]!=specific_hypothesis[x]:\n",
        "                    specific_hypothesis[x]='?'\n",
        "                else:\n",
        "                    pass\n",
        "    return specific_hypothesis\n",
        "print(\" The final hypothesis is:\",train(d,target))"
      ],
      "metadata": {
        "colab": {
          "base_uri": "https://localhost:8080/"
        },
        "id": "ldgZHDsheq7f",
        "outputId": "ae219481-6ca3-4445-c2b8-63fa01a88e83"
      },
      "execution_count": 3,
      "outputs": [
        {
          "output_type": "stream",
          "name": "stdout",
          "text": [
            "   Sunny  Warm Normal  Strong Warm.1    Same  Yes\n",
            "0  Sunny  Warm   High  Strong   Warm    Same  Yes\n",
            "1  Rainy  Cold   High  Strong   Warm  Change   No\n",
            "2  Sunny  Warm   High  Strong   Cool  Change  Yes\n",
            " The attributes are [['Sunny' 'Warm' 'High' 'Strong' 'Warm' 'Same']\n",
            " ['Rainy' 'Cold' 'High' 'Strong' 'Warm' 'Change']\n",
            " ['Sunny' 'Warm' 'High' 'Strong' 'Cool' 'Change']]\n",
            " The target is: ['Yes' 'No' 'Yes']\n",
            " The final hypothesis is: ['Sunny' 'Warm' 'High' 'Strong' '?' '?']\n"
          ]
        }
      ]
    },
    {
      "cell_type": "code",
      "source": [],
      "metadata": {
        "id": "Bz5QqKo4i4A7"
      },
      "execution_count": null,
      "outputs": []
    }
  ]
}